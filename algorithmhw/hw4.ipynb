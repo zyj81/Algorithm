{
 "cells": [
  {
   "cell_type": "markdown",
   "metadata": {},
   "source": [
    "## algorithm design and anlysis-2025 spring  homework 4\n",
    "**Deadline**：2025.5.14\n",
    "\n",
    "**name**:\n",
    "\n",
    "\n",
    "note：\n",
    "---\n",
    "1. 带有\\*的题目，申请免上课的同学，必须完成，其他同学选作；\n",
    "2. 请独立完成，如求助了他人或者大模型，请著明，并且不可省略算法分析部分；\n",
    "4. 如若作答有雷同，全部取消成绩；\n",
    "3. 需要书面作答的题目，可以通过引用图片的形式添加，但是注意上传项目时包含所引用的图片的源文件；\n",
    "4. $log_n$ 默认表示$log_2{n}$;"
   ]
  },
  {
   "cell_type": "markdown",
   "metadata": {},
   "source": [
    "## 问题 1 \n",
    "**最小生成树（Minimum Spanning Tree）**\n",
    "\n",
    "设  **G**  为一个带权重的连通无向图，且所有边的权重均不相等。令$e_i$ 为权重第 $i$ 小的边。最小生成树（MST）是否必须包含 $e_1$ ? 同理，是否必须包含 $e_2$ 和 $e_3$ ? 若必须包含，请给出证明；否则，请构造反例。需从基本原理论证，不能依赖割引理(cut lemma) 或 Prim/Kruskal算法的正确性。\n"
   ]
  },
  {
   "cell_type": "markdown",
   "metadata": {},
   "source": [
    "answer:\n",
    "\n",
    "![问题1](./fig/hw4q1.png)"
   ]
  },
  {
   "cell_type": "markdown",
   "metadata": {},
   "source": [
    "## 问题 2 \n",
    "**瓶颈生成树（Bottleneck Spanning Tree）**\n",
    "\n",
    "带有权重的无向图 $G(V,E,w)$ 的瓶颈生成树，表现为：在所有生成树中，最大权重边的权重值最小。即，BST $T$ 最小化瓶颈损失 $c(T)=max_{e \\in T}{w(e)}$。\n",
    "\n",
    "1. 证明 $G$ 的每一个最小生成树（MST）都是瓶颈生成树（BST）\n",
    "2. 设计一个线性时间复杂度的算法：， 对于一个图 $G(V,E,w)$ 和一个整数 $b$，判断图 $ G$ 是否存在一个瓶颈生成树，其最大权重边的权重不超过 $b$，分析算法设计思路，并基于python编程实现。\n",
    "3. 设计一个线性时间复杂度的算法：对于给定的图 $G(V,E,w)$，找到其瓶颈生成树，分析算法设计思路，并基于python编程实现。"
   ]
  },
  {
   "metadata": {},
   "cell_type": "markdown",
   "source": [
    "answer:\n",
    "\n",
    "![问题2](./fig/hw4q2.png)"
   ]
  },
  {
   "cell_type": "markdown",
   "metadata": {},
   "source": "idea：为了判断是否存在一个最大边权不超过 b 的瓶颈生成树，首先筛选出所有权重小于等于 b 的边，构建子图。随后，通过一次广度优先搜索（BFS）或深度优先搜索（DFS）从任意节点出发，检测子图的连通性。如果能够遍历到所有节点，则说明存在一棵最大边权不超过 b 的生成树；否则不存在。该方法仅需线性扫描节点和边，时间复杂度为O(V+E)。"
  },
  {
   "cell_type": "code",
   "metadata": {
    "ExecuteTime": {
     "end_time": "2025-04-27T13:48:45.917551Z",
     "start_time": "2025-04-27T13:48:45.912854Z"
    }
   },
   "source": [
    "#大模型生成\n",
    "from collections import defaultdict, deque\n",
    "\n",
    "def exists_bottleneck_spanning_tree(V, edges, b):\n",
    "    graph = defaultdict(list)\n",
    "    \n",
    "    for u, v, w in edges:\n",
    "        if w <= b:\n",
    "            graph[u].append(v)\n",
    "            graph[v].append(u)\n",
    "\n",
    "    visited = set()\n",
    "    queue = deque()\n",
    "\n",
    "    if not V:\n",
    "        return True\n",
    "    \n",
    "    start = next(iter(V))\n",
    "    queue.append(start)\n",
    "    visited.add(start)\n",
    "    \n",
    "    while queue:\n",
    "        node = queue.popleft()\n",
    "        for neighbor in graph[node]:\n",
    "            if neighbor not in visited:\n",
    "                visited.add(neighbor)\n",
    "                queue.append(neighbor)\n",
    "    \n",
    "    return visited == V\n",
    "if __name__ == \"__main__\":\n",
    "    # 定义图的顶点集合和边集合\n",
    "    V = {1, 2, 3, 4}\n",
    "    edges = [\n",
    "        (1, 2, 1),\n",
    "        (2, 3, 2),\n",
    "        (3, 4, 3),\n",
    "        (1, 4, 4),\n",
    "        (1, 3, 5)\n",
    "    ]\n",
    "    \n",
    "    # 测试第2问：判断是否存在最大边权≤b的瓶颈生成树\n",
    "    b = 3\n",
    "    result = exists_bottleneck_spanning_tree(V, edges, b)\n",
    "    print(f\"是否存在最大边权≤{b}的瓶颈生成树？\", result)"
   ],
   "outputs": [
    {
     "name": "stdout",
     "output_type": "stream",
     "text": [
      "是否存在最大边权≤3的瓶颈生成树？ True\n"
     ]
    }
   ],
   "execution_count": 5
  },
  {
   "metadata": {},
   "cell_type": "markdown",
   "source": "idea:为在图中找到一棵瓶颈生成树，通过对所有边权进行排序并采用二分查找，确定使图连通的最小最大边权 b ∗。在每次二分过程中，利用筛选边集并执行连通性检测，判断是否存在权重不超过当前 b 的生成树。一旦找到最小可行的瓶颈边权，再在相应子图中用DFS或BFS构建任意一棵生成树，即可得到瓶颈生成树。整体时间复杂度为O((V+E)logE)"
  },
  {
   "metadata": {
    "ExecuteTime": {
     "end_time": "2025-04-27T13:50:13.990773Z",
     "start_time": "2025-04-27T13:50:13.986025Z"
    }
   },
   "cell_type": "code",
   "source": [
    "#大模型生成\n",
    "def bottleneck_spanning_tree(V, edges):\n",
    "    weights = sorted(set(w for _, _, w in edges))\n",
    "    left, right = 0, len(weights) - 1\n",
    "    best_b = weights[-1]\n",
    "    \n",
    "    while left <= right:\n",
    "        mid = (left + right) // 2\n",
    "        b = weights[mid]\n",
    "        if exists_bottleneck_spanning_tree(V, edges, b):\n",
    "            best_b = b\n",
    "            right = mid - 1\n",
    "        else:\n",
    "            left = mid + 1\n",
    "    \n",
    "    # 构建一棵生成树（任选连通子图）\n",
    "    from collections import defaultdict\n",
    "    graph = defaultdict(list)\n",
    "    for u, v, w in edges:\n",
    "        if w <= best_b:\n",
    "            graph[u].append(v)\n",
    "            graph[v].append(u)\n",
    "\n",
    "    tree_edges = []\n",
    "    visited = set()\n",
    "\n",
    "    def dfs(u):\n",
    "        visited.add(u)\n",
    "        for v in graph[u]:\n",
    "            if v not in visited:\n",
    "                tree_edges.append((u, v))\n",
    "                dfs(v)\n",
    "\n",
    "    start = next(iter(V))\n",
    "    dfs(start)\n",
    "\n",
    "    return tree_edges, best_b\n",
    "if __name__ == \"__main__\":\n",
    "    # 定义图的顶点集合和边集合\n",
    "    V = {1, 2, 3, 4}\n",
    "    edges = [\n",
    "        (1, 2, 1),\n",
    "        (2, 3, 2),\n",
    "        (3, 4, 3),\n",
    "        (1, 4, 4),\n",
    "        (1, 3, 5)\n",
    "    ]\n",
    "    # 测试第3问：找出瓶颈生成树\n",
    "    tree_edges, bottleneck = bottleneck_spanning_tree(V, edges)\n",
    "    print(f\"瓶颈生成树的边：{tree_edges}\")\n",
    "    print(f\"瓶颈生成树的最大边权：{bottleneck}\")"
   ],
   "outputs": [
    {
     "name": "stdout",
     "output_type": "stream",
     "text": [
      "瓶颈生成树的边：[(1, 2), (2, 3), (3, 4)]\n",
      "瓶颈生成树的最大边权：3\n"
     ]
    }
   ],
   "execution_count": 6
  },
  {
   "cell_type": "markdown",
   "metadata": {},
   "source": [
    "## 问题 3\n",
    "\n",
    "**道路网（Road Network）**\n",
    "\n",
    "假设有一个以图 $ G(V, E, l) $ 表示的道路网络，连接了一组城市 $ V $。我们假设该网络是有向的，并且每条道路 $(u, v) \\in E$ 都有一个非负的长度 $ l(u, v) $。一条新的道路即将被建造，因此有一个列表 $ E' $ 包含它可以连接的城市对。每对 $(u, v) \\in E'$ 都有一个对应的长度 $ l'(u, v) $。我们希望选择一对城市，使得两个城市 $ s, t \\in V $ 之间的距离减少最大。请为此问题编写一个高效的算法，并详细解释算法的正确性和复杂度。\n"
   ]
  },
  {
   "metadata": {},
   "cell_type": "markdown",
   "source": "idea:为选择一条能最大限度缩短起点 s 到终点 t 距离的新道路，算法首先利用Dijkstra算法分别从 s 和 t（在反向图 L）各执行一次最短路径计算，得到每个节点到 s 和 t 的最短距离。随后，对每条候选新道路 (u, v)，计算通过新边形成的新路径长度 d_s(u) + l'(u, v) + d_t(v)，并与原始最短路径长度 d_s(t) 比较，确定路径缩短量。最后，选择缩短量最大的道路作为最优方案。整体算法时间复杂度为 O((V + E) log V + |E'|)，其中 V、E 分别为图的节点数和边数，E' 为候选新道路集合。"
  },
  {
   "metadata": {
    "ExecuteTime": {
     "end_time": "2025-04-27T14:00:12.876230Z",
     "start_time": "2025-04-27T14:00:12.869802Z"
    }
   },
   "cell_type": "code",
   "source": [
    "#大模型生成\n",
    "import heapq\n",
    "from collections import defaultdict\n",
    "\n",
    "def dijkstra(start, graph, n):\n",
    "    dist = [float('inf')] * n\n",
    "    dist[start] = 0\n",
    "    heap = [(0, start)]\n",
    "    \n",
    "    while heap:\n",
    "        d, u = heapq.heappop(heap)\n",
    "        if d > dist[u]:\n",
    "            continue\n",
    "        for v, w in graph[u]:\n",
    "            if dist[v] > dist[u] + w:\n",
    "                dist[v] = dist[u] + w\n",
    "                heapq.heappush(heap, (dist[v], v))\n",
    "    return dist\n",
    "\n",
    "def best_road_to_build(n, edges, candidates, s, t):\n",
    "    graph = defaultdict(list)\n",
    "    reverse_graph = defaultdict(list)\n",
    "\n",
    "    for u, v, w in edges:\n",
    "        graph[u].append((v, w))\n",
    "        reverse_graph[v].append((u, w))  # 反向建图\n",
    "\n",
    "    d_s = dijkstra(s, graph, n)\n",
    "    d_t = dijkstra(t, reverse_graph, n)\n",
    "\n",
    "    original_distance = d_s[t]\n",
    "    best_improvement = 0\n",
    "    best_road = None\n",
    "\n",
    "    for u, v, w_new in candidates:\n",
    "        if d_s[u] != float('inf') and d_t[v] != float('inf'):\n",
    "            new_distance = d_s[u] + w_new + d_t[v]\n",
    "            improvement = original_distance - new_distance\n",
    "            if improvement > best_improvement:\n",
    "                best_improvement = improvement\n",
    "                best_road = (u, v)\n",
    "\n",
    "    return best_road, best_improvement\n",
    "V = 4\n",
    "edges = [\n",
    "    (0, 1, 4),\n",
    "    (1, 2, 5),\n",
    "    (2, 3, 6)\n",
    "]\n",
    "\n",
    "candidates = [\n",
    "    (0, 2, 1),\n",
    "    (1, 3, 2)\n",
    "]\n",
    "\n",
    "s = 0\n",
    "t = 3\n",
    "\n",
    "road, improvement = best_road_to_build(V, edges, candidates, s, t)\n",
    "print(\"应该新建的道路是：\", road)\n",
    "print(\"最短路径缩短了：\", improvement)\n",
    "# your algorithm time complexity is: \n",
    "'O((V+E)logV+∣E′∣)'"
   ],
   "outputs": [
    {
     "name": "stdout",
     "output_type": "stream",
     "text": [
      "应该新建的道路是： (1, 3)\n",
      "最短路径缩短了： 9\n"
     ]
    }
   ],
   "execution_count": 7
  },
  {
   "cell_type": "markdown",
   "metadata": {},
   "source": [
    "## 问题 4\n",
    "\n",
    "**逃离问题**\n",
    "\n",
    "一个 $ n \\times n $ 的网格是一个无向图，由 $ n $ 行和 $ n $ 列的顶点组成，如下图所示。我们用 $(i,j)$ 表示第 $ i $ 行和第 $ j $ 列的顶点。除了边界顶点，网格中的所有顶点都有四个邻居，即满足 $ i = 1, i = n, j = 1 $ 或 $ j = n $ 的点 $(i,j)$。\n",
    "\n",
    "给定网格中的 $ m \\leq n^2 $ 个起点 $(x_1, y_1), (x_2, y_2), \\cdots , (x_m, y_m)$，逃离问题是确定是否存在 $ m $ 条顶点不相交的路径（即路径之间不相交），从这些起点到边界上的任意 $ m $ 个不同点。例如，图1中的网格存在逃离。\n",
    "\n",
    "(1) 该问题可以看作是一个最大流问题。考虑一个流网络，其中顶点和边都有容量。也就是说，进入任何给定顶点的总正流量受到容量限制。证明在具有边和顶点容量的网络中确定最大流可以简化为在具有可比大小的普通流网络上的最大流问题。更准确地说，你需要将一个具有顶点和边容量的网络 $ G = (V,E) $ 转换为另一个仅具有边容量的网络 $ G' = (V', E') $，使得两个网络上的最大流相同，并且你构建的新网络具有 $ V' = O(V) $ 个顶点和 $ E' = O(E) $ 条边。你可以假设网络是连通的。\n",
    "\n",
    "(2) 描述一个解决逃离问题的高效算法，并分析其运行时间。\n",
    "\n",
    "\n",
    "<div align=\"center\"> <img alt=\"图片\" src=\"./fig/escepe-p.png\"> </div>\n",
    "<center> 图2. 逃脱问题网格，起始顶点为黑色，其他网格顶点为白色</center>"
   ]
  },
  {
   "metadata": {},
   "cell_type": "markdown",
   "source": [
    "(1)证明：\n",
    "若存在一条从上边界黑点到下边界黑点的路径，则由于题目限制仅允许在黑点之间沿上下左右方向移动，故该路径中每一个点必须为黑点，且任意相邻两点在网格中一定是上下或左右相邻的格子，即曼哈顿距离为 1。因此，该路径必由一系列黑点构成，且相邻点之间满足合法的邻接关系。"
   ]
  },
  {
   "cell_type": "markdown",
   "metadata": {},
   "source": [
    "(2)idea：为判断是否存在一条从上边界黑点到下边界黑点的路径，算法首先遍历整个网格，识别所有黑点并构建图模型，其中每个黑点为一个节点，若两个黑点在上下或左右相邻位置，则在它们之间建立边。随后，从所有上边界的黑点出发执行一次广度优先搜索（BFS）或深度优先搜索（DFS），在搜索过程中记录访问路径并判断是否能够到达任一位于下边界的黑点。若存在这样的路径，则返回一条可行路径；若搜索结束仍未到达下边界，则说明路径不存在。该算法时间复杂度为O(n^2),其中n为网格边长，适用于中等规模的稠密网格问题。\n",
    "\n",
    "运行时间分析：\n",
    "- 顶点数：O(n^2)（每个网格点拆分为两个顶点，加上 s 和 t）。\n",
    "- 边数：O(n^2)（每个网格点有 O(1) 条边）。\n",
    "- Dinic算法的时间复杂度为 O(V^2E) = O((n^2)^2 · n^2) = O(n^6)。\n",
    "- 对于网格图，Dinic算法的实际性能可能更好（如 O(n^3)），但最坏情况下为 O(n^6)。"
   ]
  },
  {
   "metadata": {
    "ExecuteTime": {
     "end_time": "2025-04-29T05:59:29.937187Z",
     "start_time": "2025-04-29T05:59:29.931659Z"
    }
   },
   "cell_type": "code",
   "source": [
    "#大模型生成\n",
    "from collections import deque\n",
    "\n",
    "def find_path(grid):\n",
    "    n = len(grid)\n",
    "    visited = [[False] * n for _ in range(n)]\n",
    "    parent = [[None] * n for _ in range(n)]\n",
    "    \n",
    "    # 起点：所有上边界黑点\n",
    "    queue = deque()\n",
    "    for j in range(n):\n",
    "        if grid[0][j] == 1:\n",
    "            queue.append((0, j))\n",
    "            visited[0][j] = True\n",
    "    \n",
    "    # BFS遍历\n",
    "    while queue:\n",
    "        x, y = queue.popleft()\n",
    "        if x == n - 1:  # 到达下边界\n",
    "            # 回溯路径\n",
    "            # 回溯路径\n",
    "            path = []\n",
    "            while (x, y) is not None:\n",
    "                path.append((x, y))\n",
    "                if parent[x][y] is None:\n",
    "                     break\n",
    "                x, y = parent[x][y]\n",
    "\n",
    "            return path[::-1]  # 返回正序路径\n",
    "\n",
    "        for dx, dy in [(-1,0),(1,0),(0,-1),(0,1)]:\n",
    "            nx, ny = x + dx, y + dy\n",
    "            if 0 <= nx < n and 0 <= ny < n and grid[nx][ny] == 1 and not visited[nx][ny]:\n",
    "                visited[nx][ny] = True\n",
    "                parent[nx][ny] = (x, y)\n",
    "                queue.append((nx, ny))\n",
    "\n",
    "    return None  # 无路径\n",
    "grid = [\n",
    "    [0, 1, 0, 0, 0, 1],  # 第一行：起点在 (0,1) 和 (0,5)\n",
    "    [0, 1, 1, 1, 0, 0],\n",
    "    [0, 0, 0, 1, 0, 1],\n",
    "    [0, 1, 1, 1, 1, 1],\n",
    "    [0, 0, 0, 0, 0, 1],\n",
    "    [1, 1, 1, 1, 0, 1]   # 最后一行：终点可能是 (5,0)...(5,5)\n",
    "]\n",
    "path = find_path(grid)\n",
    "if path:\n",
    "    print(\"找到路径：\")\n",
    "    for pos in path:\n",
    "        print(pos)\n",
    "else:\n",
    "    print(\"无可行路径\")\n"
   ],
   "outputs": [
    {
     "name": "stdout",
     "output_type": "stream",
     "text": [
      "找到路径：\n",
      "(0, 1)\n",
      "(1, 1)\n",
      "(1, 2)\n",
      "(1, 3)\n",
      "(2, 3)\n",
      "(3, 3)\n",
      "(3, 4)\n",
      "(3, 5)\n",
      "(4, 5)\n",
      "(5, 5)\n"
     ]
    }
   ],
   "execution_count": 9
  }
 ],
 "metadata": {
  "language_info": {
   "name": "python"
  },
  "kernelspec": {
   "name": "python3",
   "language": "python",
   "display_name": "Python 3 (ipykernel)"
  }
 },
 "nbformat": 4,
 "nbformat_minor": 2
}
