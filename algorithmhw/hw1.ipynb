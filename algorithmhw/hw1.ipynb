{
 "cells": [
  {
   "cell_type": "markdown",
   "metadata": {},
   "source": [
    "## algorithm design and anlysis-2025 spring  homework 1 \n",
    "**Deadline**：2025.5.14\n",
    "\n",
    "**name**:\n",
    "\n",
    "\n",
    "note：\n",
    "---\n",
    "1. 带有\\*的题目，申请免上课的同学，必须完成，其他同学选作；\n",
    "2. 请独立完成，如求助了他人或者大模型，请著明，并且不可省略算法分析部分；\n",
    "4. 如若作答有雷同，全部取消成绩；\n",
    "3. 需要书面作答的题目，可以通过引用图片的形式添加，但是注意上传项目时包含所引用的图片的源文件；\n",
    "4. $log_n$ 默认表示$log_2{n}$;"
   ]
  },
  {
   "cell_type": "markdown",
   "metadata": {},
   "source": [
    "## 问题 1\n",
    "\n",
    "对于下面的每一对表达式(A, B), A是否能表示为B的 $\\Theta, \\Omega ,O$形式. 请注意, 这些关系中的零个、一个或多个可能成立。列出所有正确的。经常发生一些学生会,把指示写错, 所以请把关系写完整, 例如: $A = O(B),  A =\\Theta(B)$, 或$A = \\Omega(B)$。\n",
    "\n",
    "1. $A=n^2-100n, B=n^2$\n",
    "2. $A=logn, B=log_{1.2}n$\n",
    "3. $A=3^{2n}, B=2^{4n}$\n",
    "4. $A=2^{logn}, B=n$\n",
    "5. $A=\\log{\\log}{n},B=10^{10^{100}}$"
   ]
  },
  {
   "cell_type": "markdown",
   "metadata": {},
   "source": [
    "answer:\n",
    "![问题1](./fig/hw1q1.png)\n"
   ]
  },
  {
   "cell_type": "markdown",
   "metadata": {},
   "source": [
    "## 问题 2：\n",
    "\n",
    "假设有函数 $f$ 和 $g$ 使得 $f(n)$ = $O(g(n))$ 对于下面的每一个陈述, 请判断对错, 如果正确请给出证明, 否则请给出一个反例。\n",
    "\n",
    "1. $\\log{f(n)}$ = $O(\\log(1+g(n)))$\n",
    "2. $3^{f(n)}=O(3^{g(n)})$\n",
    "3. $(f(n))^2=O((g(n))^2)$ "
   ]
  },
  {
   "cell_type": "markdown",
   "metadata": {},
   "source": "answer:![问题2](./fig/hw1q2.png)"
  },
  {
   "cell_type": "markdown",
   "metadata": {},
   "source": [
    "## 问题 3\n",
    "\n",
    "根据下列递归公式, 计算下列 $T(n)$ 对应的的渐近上界。要求所求的边界尽可能的紧（tight）, 请写明步骤。\n",
    "\n",
    "1. $T(1)=1; T(n)=T(n/4)+1$ for $n>1$\n",
    "2. $T(1)=1;T(n)=3T(n/3)+n^2$ for $n>1$\n",
    "3. $T(1)=1;T(n)=T(2n/3)+1$ for $n>1$\n",
    "4. $T(1)=1;T(n)=5T(n/4)+n$ for $n>1$\n",
    "5. $T(n)=1 \\ for\\ n \\le 2 ; T(n)=T(\\sqrt{n})+1 \\ for \\ n>2$"
   ]
  },
  {
   "cell_type": "markdown",
   "metadata": {},
   "source": "answer:![问题3](./fig/hw1q3.png)"
  },
  {
   "cell_type": "markdown",
   "metadata": {},
   "source": [
    "## 问题 4：\n",
    "\n",
    "给定一个包含n个元素的数组 `profits` , 它的第 `i` 个元素 `profits[i]` 表示一支股票第 `i` 天的**收益**（正数表示涨, 负数表示跌）。你只能选择 **某一天** 买入这只股票, 并选择在 **未来的某一个不同的日子** 卖出该股票。\n",
    "\n",
    "1. 设计一个算法来计算你所能获取的最大利润和对应买入和卖出的日期。请分析算法方案, 计算其时间复杂度, 并且使用python编程实现该算法。\n",
    "\n",
    "2. \\* 设计一个时间复杂度为 $O(n)$的算法实现该算法\n",
    "\n",
    "e.g. :\n",
    "---\n",
    "profits=[3,2,1,-7,5,2,-1,3,-1], 第5天买入, 第8天卖出, 收益最大：9\n",
    "\n"
   ]
  },
  {
   "cell_type": "markdown",
   "metadata": {},
   "source": "idea:通过前缀和转化为“最大子数组和”问题，记录最小累计收益出现的时间作为买入点，用当前累计收益减去该最小值获得最大利润。只遍历了一次长度为n的数组 profits,且每次循环中只进行了常数次的加法、比较和赋值操作，时间复杂度为O(n)"
  },
  {
   "cell_type": "code",
   "metadata": {
    "ExecuteTime": {
     "end_time": "2025-04-13T08:45:20.946553Z",
     "start_time": "2025-04-13T08:45:20.941614Z"
    }
   },
   "source": [
    "def max_profit_cumulative(profits):\n",
    "    if not profits:\n",
    "        return 0, 0, 0\n",
    "\n",
    "    cumulative = 0\n",
    "    min_cumulative = float('inf')\n",
    "    max_profit = 0\n",
    "    buy_day = sell_day = 0\n",
    "    min_day = 0  # 记录最小累计利润对应的天数\n",
    "\n",
    "    for i in range(len(profits)):\n",
    "        cumulative += profits[i]\n",
    "\n",
    "        # 更新最小累计利润及其天数\n",
    "        if cumulative < min_cumulative:\n",
    "            min_cumulative = cumulative\n",
    "            min_day = i + 2  # 日期从1开始\n",
    "\n",
    "        # 计算当前利润并更新最大值\n",
    "        current_profit = cumulative - min_cumulative\n",
    "        if current_profit > max_profit:\n",
    "            max_profit = current_profit\n",
    "            buy_day = min_day\n",
    "            sell_day = i + 1  # 当前天数\n",
    "\n",
    "    return max_profit, buy_day, sell_day\n",
    "\n",
    "profits = [3, 2, 1, -7, 5, 2, -1, 3, -1]\n",
    "max_profit, buy_day, sell_day = max_profit_cumulative(profits)\n",
    "\n",
    "print(f\"最大收益：{max_profit}\")\n",
    "print(f\"买入日期：第 {buy_day} 天\")\n",
    "print(f\"卖出日期：第 {sell_day} 天\")\n",
    "'O(n)'"
   ],
   "outputs": [
    {
     "name": "stdout",
     "output_type": "stream",
     "text": [
      "最大收益：9\n",
      "买入日期：第 5 天\n",
      "卖出日期：第 8 天\n"
     ]
    }
   ],
   "execution_count": 2
  },
  {
   "cell_type": "code",
   "execution_count": null,
   "metadata": {},
   "outputs": [],
   "source": [
    "# an algorithm with O(n)"
   ]
  },
  {
   "cell_type": "markdown",
   "metadata": {},
   "source": [
    "## 问题 5：\n",
    "\n",
    "观察下方的分治算法（divide-and-conquer algorithm）的伪代码, 回答下面问题\n",
    "\n",
    "```latex\n",
    "DoSomething(A,p,r)\n",
    "-----\n",
    "n := r-p+1\n",
    "if n=2 and A[p]>A[r] then\n",
    "    swap A[p] and A[r]\n",
    "else if n >= 3 then\n",
    "    m = ceil(2n/3)\n",
    "    DoSomething(A,p,p+m-1)\n",
    "    DoSomething(A,r-m+1,r)\n",
    "    DoSomething(A,p,p+m-1)  \n",
    "    \n",
    "---\n",
    "first call: DoSomething(A,1,n)\n",
    "```\n",
    "\n",
    "note：$ceil(2n/3)=\\left\\lceil {2n/3} \\right\\rceil$；$:=$ 表示赋值, 等价于 $\\to$；A是一个包含n的整数元素的数组, \n",
    "\n",
    "1. 写出该算法时间复杂度的递归公式, 并求解其对应的渐进表示\n",
    "2. 描述一下该算法的功能, 并判断是否是最高效的解决方案\n",
    "3. 使用python编程实现上述算法或其对应的更高效版本的算法\n"
   ]
  },
  {
   "cell_type": "markdown",
   "metadata": {},
   "source": "idea：数组长度为2时，直接对数组进行交换排序；数组长度n≥3时，将数组的前2n/3段排序，再对数组的后2n/3段排序，最后再对数组的前2n/3段排序，以此通过重复局部排序实现整体有序。"
  },
  {
   "cell_type": "markdown",
   "metadata": {},
   "source": "answer:![问题5](./fig/hw1q5.png)"
  },
  {
   "cell_type": "code",
   "metadata": {
    "ExecuteTime": {
     "end_time": "2025-04-14T03:00:33.741265Z",
     "start_time": "2025-04-14T03:00:33.736801Z"
    }
   },
   "source": [
    "#上述算法实现\n",
    "from typing import List\n",
    "\n",
    "def do_something(A: List[int], p: int, r: int) -> None:\n",
    "    n = r - p + 1\n",
    "    if n == 2 and A[p] > A[r]:\n",
    "        A[p], A[r] = A[r], A[p]  # 基础情况：交换逆序对\n",
    "    elif n >= 3:\n",
    "        m = (2 * n + 2) // 3  # 等价于math.ceil(2n/3)\n",
    "        do_something(A, p, p + m - 1)    # 第一次处理前2/3\n",
    "        do_something(A, r - m + 1, r)    # 然后处理后2/3 \n",
    "        do_something(A, p, p + m - 1)    # 最后再处理前2/3\n",
    "\n",
    "# 测试验证\n",
    "if __name__ == \"__main__\":\n",
    "    test_cases = [\n",
    "        [5, 2],\n",
    "        [3, 1, 4],\n",
    "        [9, 7, 5, 11, 12, 2, 14, 3, 10, 6]\n",
    "    ]\n",
    "    \n",
    "    for arr in test_cases:\n",
    "        original = arr.copy()\n",
    "        do_something(arr, 0, len(arr)-1)\n",
    "        print(f\"原始数组: {original} → 排序结果: {arr}\")\n",
    "        assert arr == sorted(original), \"测试未通过！\"\n",
    "    \n",
    "    print(\"所有测试用例通过！\")"
   ],
   "outputs": [
    {
     "name": "stdout",
     "output_type": "stream",
     "text": [
      "原始数组: [5, 2] → 排序结果: [2, 5]\n",
      "原始数组: [3, 1, 4] → 排序结果: [1, 3, 4]\n",
      "原始数组: [9, 7, 5, 11, 12, 2, 14, 3, 10, 6] → 排序结果: [2, 3, 5, 6, 7, 9, 10, 11, 12, 14]\n",
      "所有测试用例通过！\n"
     ]
    }
   ],
   "execution_count": 3
  },
  {
   "cell_type": "markdown",
   "metadata": {},
   "source": [
    "## 问题 6：\n",
    "\n",
    "给定一个大小为 `n` 的数组 `nums` , 返回其中的多数元素。多数元素是指在数组中出现次数 **大于** `⌊ n/2 ⌋` 的元素。\n",
    "\n",
    "你可以假设数组是非空的, 并且给定的数组总是存在多数元素。\n",
    "\n",
    "1. 设计一个算法找到给定数组的多数元素, 分析算法设计思路, 计算算法时间复杂度, 使用python编程实现\n",
    "2. \\* 设计时间复杂度为 O(n)、空间复杂度为 O(1) 的算法解决此问题, 分析算法设计思路, 使用python编程实现\n",
    "\n",
    "e.g.:\n",
    "---\n",
    "1. nums=[3,2,3], 返回3\n",
    "2. nums=[2,2,1,1,1,2,2], 返回2\n"
   ]
  },
  {
   "cell_type": "markdown",
   "metadata": {},
   "source": "idea：Boyer-Moore投票算法通过维护候选元素和计数器，遍历数组时进行票数统计与抵消。由于多数元素数量过半，最终剩下的候选必定是多数元素。该算法仅需一次遍历，时间复杂度为O(n)，是最高效的解决方案。"
  },
  {
   "cell_type": "code",
   "metadata": {
    "ExecuteTime": {
     "end_time": "2025-04-14T03:56:07.570373Z",
     "start_time": "2025-04-14T03:56:07.566637Z"
    }
   },
   "source": [
    "from typing import List\n",
    "\n",
    "def majority_element(nums: List[int]) -> int:\n",
    "    candidate = None\n",
    "    count = 0\n",
    "\n",
    "    for num in nums:\n",
    "        if count == 0:\n",
    "            candidate = num\n",
    "        count += 1 if num == candidate else -1\n",
    "    \n",
    "    return candidate\n",
    "\n",
    "# 示例测试\n",
    "print(majority_element([3, 2, 3]))          # 输出: 3\n",
    "print(majority_element([2, 2, 1, 1, 1, 2, 2]))  # 输出: 2\n",
    "# your algorithm time complexity is :\n",
    "'O(n)'"
   ],
   "outputs": [
    {
     "name": "stdout",
     "output_type": "stream",
     "text": [
      "3\n",
      "2\n"
     ]
    }
   ],
   "execution_count": 4
  },
  {
   "cell_type": "markdown",
   "metadata": {},
   "source": [
    "idea for 2\\*："
   ]
  },
  {
   "cell_type": "code",
   "execution_count": null,
   "metadata": {},
   "outputs": [],
   "source": [
    "# algorithm time complexity：O(n), space complexity:O(1)\n",
    "# add your code here"
   ]
  },
  {
   "cell_type": "markdown",
   "metadata": {},
   "source": [
    "## 问题 7：\n",
    "\n",
    "给定一个包含不同整数元素的数组 $ A[1..n]$ ,并且满足条件：$A[1]>A[2]$ 并且 $A[n-1]<A[n]$; 规定：如果一个元素比它两边的邻居元素都小, 即：$A[x]<A[x-1], A[x]<A[x+1]$ , 称这个元素A[x]为“局部最小”。通过遍历一次数组, 我们可以很容易在 $O(n)$的时间复杂度下找到一个局部最小值, \n",
    "\n",
    "\n",
    "1. 分析该问题, 设计一个算法在$O(logn)$的时间复杂度下找到一个局部最小(返回数值), 要求：分析算法设计思路, 并且使用python编程实现\n",
    "2. \\* 设计算法找出所有局部最小值, 分析算法设计思路, 并使用python编程实现\n",
    "\n",
    "e.g.:\n",
    "---\n",
    "A=[9, 3, 7, 2, 1, 4, 5 ] 时,  局部最小元素为 3, 1\n"
   ]
  },
  {
   "cell_type": "markdown",
   "metadata": {},
   "source": "idea：为了寻找数组中的局部最小值，我们采用二分查找的方法。首先，初始化左右指针 left 和 right，分别指向数组的起始位置和结束位置。接着，通过计算中间位置 mid，检查中间位置的元素 A[mid] 是否满足局部最小值的条件，即 A[mid]<A[mid−1] 且 A[mid]<A[mid+1]。如果满足，直接返回 A[mid]。如果 A[mid] 不是局部最小值，进一步判断其与相邻元素的大小关系：如果 A[mid]>A[mid−1]，则局部最小值可能在左侧，将 right 更新为 mid - 1；如果 A[mid]>A[mid+1]，则局部最小值可能在右侧，将 left 更新为 mid + 1。通过不断调整搜索范围，最终在 O(logn) 的时间复杂度内找到局部最小值。"
  },
  {
   "cell_type": "code",
   "metadata": {
    "ExecuteTime": {
     "end_time": "2025-04-14T04:34:20.446405Z",
     "start_time": "2025-04-14T04:34:20.437320Z"
    }
   },
   "source": [
    "# add your code here\n",
    "def find_local_min(arr):\n",
    "    if len(arr) == 1:\n",
    "        return arr[0]\n",
    "    if len(arr) == 2:\n",
    "        return min(arr[0], arr[1])\n",
    "    \n",
    "    left, right = 0, len(arr) - 1\n",
    "    \n",
    "    while left <= right:\n",
    "        mid = (left + right) // 2\n",
    "        \n",
    "        # 检查边界条件\n",
    "        if mid == 0:\n",
    "            if arr[mid] < arr[mid + 1]:\n",
    "                return arr[mid]\n",
    "            else:\n",
    "                left = mid + 1\n",
    "        elif mid == len(arr) - 1:\n",
    "            if arr[mid] < arr[mid - 1]:\n",
    "                return arr[mid]\n",
    "            else:\n",
    "                right = mid - 1\n",
    "        else:\n",
    "            # 检查是否是局部最小值\n",
    "            if arr[mid] < arr[mid - 1] and arr[mid] < arr[mid + 1]:\n",
    "                return arr[mid]\n",
    "            # 根据二分查找的逻辑更新左右指针\n",
    "            elif arr[mid] > arr[mid - 1]:\n",
    "                right = mid - 1\n",
    "            else:\n",
    "                left = mid + 1\n",
    "\n",
    "# 测试用例\n",
    "arr = [9, 3, 7, 2, 1, 4, 5]\n",
    "print(\"局部最小值为:\", find_local_min(arr))\n",
    "# your algorithm time complexity is : \n",
    "'O(logn)'"
   ],
   "outputs": [
    {
     "name": "stdout",
     "output_type": "stream",
     "text": [
      "局部最小值为: 1\n"
     ]
    }
   ],
   "execution_count": 5
  },
  {
   "cell_type": "markdown",
   "metadata": {},
   "source": [
    "idea:"
   ]
  },
  {
   "cell_type": "code",
   "execution_count": null,
   "metadata": {},
   "outputs": [],
   "source": [
    "# add your code here\n",
    "# your algorithm time complexity is :"
   ]
  },
  {
   "cell_type": "markdown",
   "metadata": {},
   "source": [
    "## 问题 8：\n",
    "\n",
    "给定包含n个不同数字的一组数, 寻找一种基于比较的算法在这组数中找到k个最小的数字, 并按顺序输出它们。\n",
    "\n",
    "1. 将n个数先进行排序, 然后按顺序输出最小的k个数。要求：选择合适的排序算法实现上述操作, 计算算法时间复杂度, 并使用python编程实现。\n",
    "2. 建立一个包含这n个数的堆（heap）, 并且调用 k 次Extract-min 按顺序输出最小的k个数。使用往空堆中不断插入元素的方法建立堆, 分析这种方法建堆的时间复杂度, 并使用python编程实现\n",
    "3. \\* 假设数组中包含的数据总数目超过了计算机的存储能力, 请设计一个算法, 找到这堆数据的前k小的数值, 计算时间复杂度, 并使用python实现该算法, 假设计算机一定能存储k个数据。\n",
    "\n",
    "e.g.：\n",
    "---\n",
    "数组arr=[5,4,3,2,6,1,88,33,22,107] 的前3个最小数据为：1, 2, 3\n"
   ]
  },
  {
   "cell_type": "markdown",
   "metadata": {},
   "source": "idea：为了找到 k 个最小的数字并按顺序输出，可以先对整个数组进行排序。这里选择快速排序，因为它在平均情况下具有较好的性能，时间复杂度为 O(nlogn)。排序完成后，直接输出数组的前 k 个元素即可。"
  },
  {
   "cell_type": "code",
   "execution_count": null,
   "metadata": {},
   "outputs": [],
   "source": [
    "def quick_sort(arr):\n",
    "    if len(arr) <= 1:\n",
    "        return arr\n",
    "    pivot = arr[len(arr) // 2]\n",
    "    left = [x for x in arr if x < pivot]\n",
    "    middle = [x for x in arr if x == pivot]\n",
    "    right = [x for x in arr if x > pivot]\n",
    "    return quick_sort(left) + middle + quick_sort(right)\n",
    "\n",
    "def find_k_smallest_numbers_sort(arr, k):\n",
    "    sorted_arr = quick_sort(arr)\n",
    "    return sorted_arr[:k]\n",
    "\n",
    "# 测试用例\n",
    "arr = [5, 4, 3, 2, 6, 1, 88, 33, 22, 107]\n",
    "k = 3\n",
    "result = find_k_smallest_numbers_sort(arr, k)\n",
    "print(\"基于排序的算法：前 k 个最小的数字是:\", result)\n",
    "# your algorithm time complexity is : \n",
    "'O(nlogn)'"
   ]
  },
  {
   "metadata": {},
   "cell_type": "markdown",
   "source": "idea:使用一个空堆，逐个将 n 个数字插入堆中。插入操作的时间复杂度为 O(logn)，总共插入 n 个元素，因此建堆的时间复杂度为 O(nlogn)。调用 k 次 Extract-min 操作，每次操作的时间复杂度为 O(logn)，因此总时间复杂度为 O(klogn)。最后将提取的 k 个最小值按顺序输出。"
  },
  {
   "metadata": {
    "ExecuteTime": {
     "end_time": "2025-04-14T05:17:41.099089Z",
     "start_time": "2025-04-14T05:17:41.087217Z"
    }
   },
   "cell_type": "code",
   "source": [
    "import heapq\n",
    "\n",
    "def build_heap(arr):\n",
    "    heap = []\n",
    "    for num in arr:\n",
    "        heapq.heappush(heap, num)\n",
    "    return heap\n",
    "\n",
    "def find_k_smallest_numbers_heap(arr, k):\n",
    "    heap = build_heap(arr)\n",
    "    result = []\n",
    "    for _ in range(k):\n",
    "        result.append(heapq.heappop(heap))\n",
    "    return result\n",
    "\n",
    "# 测试用例\n",
    "arr = [5, 4, 3, 2, 6, 1, 88, 33, 22, 107]\n",
    "k = 3\n",
    "result = find_k_smallest_numbers_heap(arr, k)\n",
    "print(\"基于堆的算法：前 k 个最小的数字是:\", result)\n",
    "# your algorithm time complexity is : \n",
    "'O(klogn)'"
   ],
   "outputs": [
    {
     "name": "stdout",
     "output_type": "stream",
     "text": [
      "基于堆的算法：前 k 个最小的数字是: [1, 2, 3]\n"
     ]
    }
   ],
   "execution_count": 6
  },
  {
   "cell_type": "markdown",
   "metadata": {},
   "source": [
    "## 问题 9：\n",
    "\n",
    "**选择问题**:给定一个包含n个未排序值的数组A和一个$k≤n$的整数, 返回A中最小的第k项。\n",
    "\n",
    "在课堂上, 学了一个简单的O(n)随机算法来解决选择问题。事实上还有一种更复杂的最坏情况下时间复杂度为$O(n)$ 的选择算法。假设使用一个黑盒过程来实现这个O(n)选择算法: 给定一个数组A、 $p < r$ 和 k,  $BB(A, p, r, k)$ 可以在$O(r−p+ 1)$时间内找到并报告$A[p..r]$中第k小的项的下标。假设你可以在线性时间内处理Partition过程。\n",
    "\n",
    "1. 请分析如何修改 Quicksork 算法可以使其最差情况下的运行时间为 $O(nlogn)$, 使用伪代码实现, 并分析为何修改后的版本最差情况的运行时间为$O(nlogn)$\n",
    "\n",
    "note: 伪代码中, 你可以直接调用用` BB(A,p,r,k)`这个函数用于表示在最坏情况下时间复杂度为$O(n)$的选择算法；\n",
    "\n",
    "\n",
    "\n",
    "2. 找到一个更好的算法报告数组A中的前k小的项, 使用伪代码表示你的算法, 并分析你算法的时间复杂度。\n",
    "\n",
    "举例：A=[13, 3, 7, 9, 11, 1, 15, 2, 8, 10, 12, 16, 14, 5], 当k=4时, 应该报告1, 2, 3, 4\n",
    "\n",
    "note： 最直观的方法就是先将数组A排序, 然后从左向右报告其前k项, 这样操作的时间复杂度为$O(nlogn)$. 调用用` BB(A,p,r,k)`设计一个算法使其报告无序数组A的前k项, 满足时间复杂度好于$\\Theta(nlogn)$, 并且当$k=\\sqrt{n}$时, 你设计的算法时间复杂度应该为$\\Theta(n)$.\n",
    "\n",
    "\n",
    "\n",
    "3. 给定一个大小为n的数组, 找到一个 时间复杂度为$O(n log k)$ 的算法, 该算法将A中的元素重新排序, 使它们被划分为k个部分, 每个部分的元素小于或等于下一部分的元素。假设n和k都是2的幂。使用伪代码表示你的算法, 并分析时间复杂度。\n",
    "\n",
    "e.g.:\n",
    "---\n",
    "数组：[1,  3,  5,  7,  9,  11,  13,  15,  2,  4,  6,  8,  10,  12,  16,  14], k=4, \n",
    "\n",
    "对应重新排序的数组为：[1,  3,  2,  4]  [7,  6,  5,  8]  [12,  11,  10,  9]  [13,  14,  16,  15]\n",
    "\n",
    "\n"
   ]
  },
  {
   "cell_type": "markdown",
   "metadata": {},
   "source": "idea：在标准的 Quicksort 中，选择的基准（pivot）是随机的，因此最坏情况下的时间复杂度为 O(n^2)。为了保证最坏情况下的时间复杂度为 O(nlogn)，可以使用一个线性时间的选择算法（如 BB(A, p, r, k)）来选择基准，确保每次划分都能将数组分为大致相等的两部分。"
  },
  {
   "metadata": {},
   "cell_type": "markdown",
   "source": [
    "```latex\n",
    "Modified_Quicksort(A, p, r):\n",
    "    if p < r:\n",
    "        q = Partition(A, p, r)\n",
    "        Modified_Quicksort(A, p, q-1)\n",
    "        Modified_Quicksort(A, q+1, r)\n",
    "\n",
    "Partition(A, p, r):\n",
    "    n = r - p + 1\n",
    "    k = n // 2\n",
    "    pivot_index = BB(A, p, r, k)  // 使用线性时间选择算法选择中位数作为基准\n",
    "    pivot = A[pivot_index]\n",
    "    Swap A[pivot_index] and A[r]  // 将基准移到最后\n",
    "    i = p - 1\n",
    "    for j = p to r - 1:\n",
    "        if A[j] <= pivot:\n",
    "            i = i + 1\n",
    "            Swap A[i] and A[j]\n",
    "    Swap A[i + 1] and A[r]\n",
    "    return i + 1\n",
    "```"
   ]
  },
  {
   "metadata": {},
   "cell_type": "markdown",
   "source": "idea：利用 BB(A, p, r, k) 函数，可以在 O(n) 时间内找到数组中第 k 小的元素。然后，可以利用这个第 k 小的元素作为基准，将数组分为两部分：小于等于该基准的元素和大于该基准的元素。前 k 小的元素都在小于等于该基准的部分中。"
  },
  {
   "metadata": {},
   "cell_type": "markdown",
   "source": [
    "```latex\n",
    "Find_K_Smallest(A, k):\n",
    "    n = len(A)\n",
    "    if k > n:\n",
    "        return \"Invalid input\"\n",
    "    kth_smallest_index = BB(A, 0, n-1, k)  // 找到第 k 小的元素的下标\n",
    "    kth_smallest = A[kth_smallest_index]\n",
    "    smaller_or_equal = [x for x in A if x <= kth_smallest]\n",
    "    return smaller_or_equal[:k]\n",
    "```\n"
   ]
  },
  {
   "metadata": {},
   "cell_type": "markdown",
   "source": "idea:利用 BB(A, p, r, k) 函数，可以逐步将数组划分为 k 个部分，每个部分的元素小于或等于下一部分的元素。具体步骤:1.使用 BB(A, 0, n-1, n/k) 找到第 n/k 小的元素，将数组分为两部分。2.递归地对每部分继续划分，直到划分为 k 个部分。"
  },
  {
   "metadata": {},
   "cell_type": "markdown",
   "source": [
    "```latex\n",
    "Divide_Array(A, n, k):\n",
    "    if k == 1:\n",
    "        return A\n",
    "    m = n // k\n",
    "    kth_smallest_index = BB(A, 0, n-1, m)\n",
    "    kth_smallest = A[kth_smallest_index]\n",
    "    smaller_or_equal = [x for x in A if x <= kth_smallest]\n",
    "    larger = [x for x in A if x > kth_smallest]\n",
    "    left_part = Divide_Array(smaller_or_equal, len(smaller_or_equal), k // 2)\n",
    "    right_part = Divide_Array(larger, len(larger), k // 2)\n",
    "    return left_part + right_part\n",
    "```"
   ]
  },
  {
   "metadata": {},
   "cell_type": "markdown",
   "source": ""
  },
  {
   "cell_type": "markdown",
   "metadata": {},
   "source": [
    "## 问题 10：\n",
    "\n",
    "给定一个包含m个**字符串**的数组A, 其中不同的字符串可能有不同的字符数, 但数组中所有字符串的字符总数为n。设计一个算法在 $O(n)$ 时间内对字符串进行排序, 分析算法设计方案, 计算其时间复杂度, 并基于python编程实现该算法。请注意, 假设字符串只包含\"a\",\"b\",...,\"z\", \n",
    "\n",
    "\n",
    "\n",
    "举例1：数组A=[\"a\", \"da\", \"bde\", \"ab\", \"bc\", \"abdc\", \"cdba\"], 排序后的数组应该为：['a', 'ab', 'abdc', 'bc', 'bde', 'cdba', 'da']\n",
    "\n",
    "\n",
    "\n",
    "举例2：数组A=['ab', 'a', 'b', 'abc', 'ba', 'c'], 排序后的数组应该为：\n",
    "\n",
    "['a', 'ab', 'abc', 'b', 'ba', 'c']\n",
    "\n",
    "\n",
    "\n",
    "举例3：数组A=['aef', 'yzr', 'wr', 'ab', 'bhjc', 'lkabdc', 'pwcdba'],  排序后的数组应该为：['ab', 'aef', 'bhjc', 'lkabdc', 'pwcdba', 'wr', 'yzr']\n",
    "\n",
    "\n",
    "\n",
    "note：\n",
    "\n",
    "-  两个字符之间的比较可以考虑比较他们对应的ASCII码值；\n",
    "- python中可以使用`ord(\"a\")`返回字符 “a”对应的ASCII值"
   ]
  },
  {
   "cell_type": "markdown",
   "metadata": {},
   "source": "idea:为了实现 O(n) 的时间复杂度，可以使用 计数排序的思想。首先将字符串按长度分组，长度相同的所有字符串放在一起。对于每个长度组，使用计数排序的思想，从字符串的最低位（即最后一个字符）开始逐位排序，直到最高位（即第一个字符）。计数排序的时间复杂度为 O(n+k)，其中 k 是字符集的大小（这里是 26，因为只包含小写字母）。由于 k 是常数，因此总时间复杂度可以达到 O(n)。\n"
  },
  {
   "cell_type": "code",
   "metadata": {
    "ExecuteTime": {
     "end_time": "2025-04-14T06:03:02.366420Z",
     "start_time": "2025-04-14T06:03:02.348497Z"
    }
   },
   "source": [
    "def counting_sort_strings(arr):\n",
    "    # 按字符串长度分组\n",
    "    max_length = max(len(s) for s in arr)\n",
    "    buckets = [[] for _ in range(max_length + 1)]  # 0 到 max_length\n",
    "\n",
    "    for s in arr:\n",
    "        buckets[len(s)].append(s)\n",
    "\n",
    "    # 对每个长度组进行计数排序\n",
    "    for length in range(1, max_length + 1):\n",
    "        current_bucket = buckets[length]\n",
    "        if not current_bucket:\n",
    "            continue\n",
    "\n",
    "        # 按字符逐位排序\n",
    "        for i in range(length - 1, -1, -1):  # 从最低位到最高位\n",
    "            count = [0] * 27  # 26 个字母 + 一个空桶\n",
    "            for s in current_bucket:\n",
    "                if i < len(s):\n",
    "                    char_index = ord(s[i]) - ord('a') + 1  # 'a' 对应 1, 'b' 对应 2, ...\n",
    "                else:\n",
    "                    char_index = 0  # 空桶\n",
    "                count[char_index] += 1\n",
    "\n",
    "            # 累加计数\n",
    "            for j in range(1, 27):\n",
    "                count[j] += count[j - 1]\n",
    "\n",
    "            # 根据计数排序\n",
    "            sorted_bucket = [None] * len(current_bucket)\n",
    "            for s in reversed(current_bucket):\n",
    "                if i < len(s):\n",
    "                    char_index = ord(s[i]) - ord('a') + 1\n",
    "                else:\n",
    "                    char_index = 0\n",
    "                count[char_index] -= 1\n",
    "                sorted_bucket[count[char_index]] = s\n",
    "\n",
    "            current_bucket = sorted_bucket\n",
    "\n",
    "        # 将排序后的结果放回原桶\n",
    "        buckets[length] = current_bucket\n",
    "\n",
    "    # 合并所有桶\n",
    "    sorted_arr = []\n",
    "    for bucket in buckets:\n",
    "        sorted_arr.extend(bucket)\n",
    "\n",
    "    return sorted_arr\n",
    "\n",
    "# 测试用例\n",
    "A1 = [\"a\", \"da\", \"bde\", \"ab\", \"bc\", \"abdc\", \"cdba\"]\n",
    "A2 = ['ab', 'a', 'b', 'abc', 'ba', 'c']\n",
    "A3 = ['aef', 'yzr', 'wr', 'ab', 'bhjc', 'lkabdc', 'pwcdba']\n",
    "\n",
    "print(\"排序后的数组1:\", counting_sort_strings(A1))\n",
    "print(\"排序后的数组2:\", counting_sort_strings(A2))\n",
    "print(\"排序后的数组3:\", counting_sort_strings(A3))\n",
    "# your algorithm time complexity is :\n",
    "'O(n)'"
   ],
   "outputs": [
    {
     "name": "stdout",
     "output_type": "stream",
     "text": [
      "排序后的数组1: ['a', 'ab', 'bc', 'da', 'bde', 'abdc', 'cdba']\n",
      "排序后的数组2: ['a', 'b', 'c', 'ab', 'ba', 'abc']\n",
      "排序后的数组3: ['ab', 'wr', 'aef', 'yzr', 'bhjc', 'lkabdc', 'pwcdba']\n"
     ]
    }
   ],
   "execution_count": 7
  }
 ],
 "metadata": {
  "language_info": {
   "name": "python"
  },
  "kernelspec": {
   "name": "python3",
   "language": "python",
   "display_name": "Python 3 (ipykernel)"
  }
 },
 "nbformat": 4,
 "nbformat_minor": 2
}
