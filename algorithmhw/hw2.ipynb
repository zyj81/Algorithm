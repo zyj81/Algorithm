{
 "cells": [
  {
   "cell_type": "markdown",
   "metadata": {},
   "source": [
    "## algorithm design and anlysis-2025 spring  homework 2\n",
    "**Deadline**：2025.5.14\n",
    "\n",
    "**name**:\n",
    "\n",
    "\n",
    "note：\n",
    "---\n",
    "1. 带有\\*的题目，申请免上课的同学，必须完成，其他同学选作；\n",
    "2. 请独立完成，如求助了他人或者大模型，请著明，并且不可省略算法分析部分；\n",
    "4. 如若作答有雷同，全部取消成绩；\n",
    "3. 需要书面作答的题目，可以通过引用图片的形式添加，但是注意上传项目时包含所引用的图片的源文件；\n",
    "4. $log_n$ 默认表示$log_2{n}$;"
   ]
  },
  {
   "cell_type": "markdown",
   "metadata": {},
   "source": [
    "## 问题 1  \n",
    "\n",
    "> 给定一个已排序的链表的头 `head` ， *删除所有重复的元素，使每个元素只出现一次* 。返回 *已排序的链表* 。链表的类如下所示：\n",
    "\n",
    "```python\n",
    "class NodeList:\n",
    "    def __init__(self, val=None, right=None):\n",
    "        self.val   = val\n",
    "        self.right = right\n",
    "```\n",
    "\n",
    "输入是一个数组，你首先需要将数组转化为链表，然后删除链表中的重复元素，再遍历链表元素，以一个数组的形式返回。请设计一个算法解决上述任务，分析算法设计思路，计算时间复杂度, 并基于python编程实现。\n",
    "\n",
    "e.g.  输入：head=[1, 1, 2, 3, 3]   输出：[1, 2, 3]\n",
    "\n",
    "![image-20240502110020439](./fig/hw2q1.png)\n",
    "\n"
   ]
  },
  {
   "cell_type": "markdown",
   "metadata": {},
   "source": "idea：先将输入数组转换为链表，利用链表的链接特性方便地删除重复元素。由于输入数组已经排序，我们可以通过遍历链表并比较相邻节点的值来识别和删除重复项。具体操作是使用双指针技术，一个指针用于遍历链表，另一个指针用于跳过重复的节点。完成重复元素的删除后，再将处理后的链表转换回数组格式输出。"
  },
  {
   "cell_type": "code",
   "metadata": {
    "ExecuteTime": {
     "end_time": "2025-04-19T15:54:11.630826Z",
     "start_time": "2025-04-19T15:54:11.622047Z"
    }
   },
   "source": [
    "class NodeList:\n",
    "    def __init__(self, val=None, right=None):\n",
    "        # 初始化链表节点\n",
    "        self.val = val\n",
    "        self.right = right\n",
    "\n",
    "def arrayToLinkedList(arr):\n",
    "    # 将数组转换为链表\n",
    "    if not arr:\n",
    "        return None\n",
    "    head = NodeList(arr[0])\n",
    "    current = head\n",
    "    for val in arr[1:]:\n",
    "        current.right = NodeList(val)\n",
    "        current = current.right\n",
    "    return head\n",
    "\n",
    "def deleteDuplicates(head):\n",
    "    # 删除链表中的重复元素\n",
    "    if not head or not head.right:\n",
    "        return head\n",
    "    current = head\n",
    "    while current and current.right:\n",
    "        if current.val == current.right.val:\n",
    "            current.right = current.right.right\n",
    "        else:\n",
    "            current = current.right\n",
    "    return head\n",
    "\n",
    "def linkedListToArray(head):\n",
    "    # 将链表转换为数组\n",
    "    result = []\n",
    "    while head:\n",
    "        result.append(head.val)\n",
    "        head = head.right\n",
    "    return result\n",
    "\n",
    "def removeDuplicates(arr):\n",
    "    # 删除数组中重复的元素并返回结果数组\n",
    "    if not arr:\n",
    "        return []\n",
    "    head = arrayToLinkedList(arr)\n",
    "    head = deleteDuplicates(head)\n",
    "    return linkedListToArray(head)\n",
    "\n",
    "# 示例\n",
    "input_array = [1, 1, 2, 3, 3]\n",
    "output_array = removeDuplicates(input_array)\n",
    "print(output_array)  # 输出: [1, 2, 3]\n",
    "# your algorithm time complexity is: \n",
    "'O(n)'"
   ],
   "outputs": [
    {
     "name": "stdout",
     "output_type": "stream",
     "text": [
      "[1, 2, 3]\n"
     ]
    }
   ],
   "execution_count": 1
  },
  {
   "cell_type": "markdown",
   "metadata": {},
   "source": [
    "## 问题 2  \n",
    "\n",
    "> 下面是一个经典的算法问题：\n",
    ">\n",
    "> - 给定包含n个整数的一个整数数组 `nums` 和一个整数目标值 `target`，请你在该数组中找出 **和为目标值** *`target`* 的那 **两个** 整数，并返回它们的**数组下标**。假设每种输入只会对应一个答案。但是，数组中同一个元素在答案里不能重复出现。你可以按任意顺序返回答案。\n",
    ">\n",
    "> 由于要多次查找数组中元素的位置，为了提高查询效率可以使用哈希表来存储数组中的数据，在哈希表中查询一个元素的复杂度为O(1)。 已知python中的字典是使用哈希表实现的，即使用`dict[key]`查询对应的value时间复杂度为O(1), python提供了查询字典是否包含某个key的功能：`key in dict`，时间复杂度也是O(1)\n",
    "\n",
    "请根据上面信息，设计一个时间复杂度为O(n) 的算法，解决上述算法问题\n",
    "\n",
    "e.g.   \n",
    "\n",
    "输入：nums=[2,7,11,15], target=9， 输出：[0，1]\n",
    "\n",
    "输入：nums=[3,2,4], target=6, 输出：[1,2]\n",
    "\n",
    "输入：nums=[3,3], target=6,  输出：[0,1]\n"
   ]
  },
  {
   "cell_type": "code",
   "metadata": {
    "ExecuteTime": {
     "end_time": "2025-04-19T16:16:28.915969Z",
     "start_time": "2025-04-19T16:16:28.911788Z"
    }
   },
   "source": [
    "# add your idea here\n",
    "def twoSum(nums, target):\n",
    "    # 创建一个哈希表，存储数组元素的值和索引\n",
    "    num_dict = {}\n",
    "    for i, num in enumerate(nums):\n",
    "        # 计算当前元素与目标值的差值\n",
    "        complement = target - num\n",
    "        # 如果差值在哈希表中，返回结果\n",
    "        if complement in num_dict:\n",
    "            return [num_dict[complement], i]\n",
    "        # 将当前元素的值和索引存入哈希表\n",
    "        num_dict[num] = i\n",
    "\n",
    "# 示例用法\n",
    "print(twoSum([2, 7, 11, 15], 9))  # 输出：[0, 1]\n",
    "print(twoSum([3, 2, 4], 6))       # 输出：[1, 2]\n",
    "print(twoSum([3, 3], 6))          # 输出：[0, 1]\n",
    "# your algorithm time complexity is: \n",
    "'O(n)'"
   ],
   "outputs": [
    {
     "name": "stdout",
     "output_type": "stream",
     "text": [
      "[0, 1]\n",
      "[1, 2]\n",
      "[0, 1]\n"
     ]
    }
   ],
   "execution_count": 2
  },
  {
   "cell_type": "markdown",
   "metadata": {},
   "source": [
    "## 问题 3:   \n",
    "\n",
    "> 栈是一种常用的数据结构，编译器中通常使用栈来实现表达式求值。\n",
    ">\n",
    "> 以表达式 $3+5 \\times 8-6$​ 为例。编译器使用两个栈来完成运算，即一个栈保持操作数，另一个栈保存运算符。\n",
    ">\n",
    "> 1. 从左向右遍历表达式，遇到数字就压入操作数栈；\n",
    ">\n",
    "> 2. 遇到运算符，就与运算符栈的栈顶元素进行比较。如果比运算符栈顶元素的优先级高，就将当前运算符压入栈；如果比运算符栈顶元素的优先级低或者相同，从运算符栈中取栈顶运算符，从操作数栈的栈顶取 2 个操作数，然后进行计算，再把计算完的结果压入操作数栈，继续比较。\n",
    ">\n",
    "> 下图是 $3+5 \\times 8-6$  这个表达式的计算过程：\n",
    "\n",
    "![figure](./fig/hw2q3.png)\n",
    "\n",
    "根据上述原理，请设计一个算法完成表达式的运算，当输入为表达式字符串，返回对应的计算结果。分析算法设计思路，计算时间复杂度，并基于python编程实现\n",
    "\n",
    "**note：**\n",
    "\n",
    "1. 假设输入的表达式只会出现加（“+”），减 “-”， 乘“*”，除 “/” 四个运算符, 表达式中只会出现正整数\n",
    "2. python中` str.isdigit()`函数可以判断字符串str是否为数字，\n",
    "\n",
    "\n",
    "\n",
    "e.g. :\n",
    "---\n",
    "\n",
    "1. 输入：“$3+5 * 8 -6$”   输出：37\n",
    "\n",
    "2. 输入：“$34+13*9 + 44-12/3$”  输出：191"
   ]
  },
  {
   "cell_type": "markdown",
   "metadata": {},
   "source": "idea：采用双栈法实现表达式求值，通过操作数栈存储数字、运算符栈处理运算优先级。具体流程为：从左到右扫描表达式，遇到数字直接入操作数栈；遇到运算符时，若其优先级高于栈顶运算符则入栈，否则持续弹出栈顶运算符进行计算（取操作数栈顶两元素运算并将结果回填），直到当前运算符可入栈。最终清空运算符栈完成剩余运算，操作数栈顶即结果。"
  },
  {
   "cell_type": "code",
   "metadata": {
    "ExecuteTime": {
     "end_time": "2025-04-20T16:22:16.155483Z",
     "start_time": "2025-04-20T16:22:16.130604Z"
    }
   },
   "source": [
    "def evaluate_expression(expression):\n",
    "    # 定义运算符优先级\n",
    "    priority = {'+': 1, '-': 1, '*': 2, '/': 2}\n",
    "    \n",
    "    # 初始化栈\n",
    "    numbers = []\n",
    "    operators = []\n",
    "    \n",
    "    i = 0\n",
    "    n = len(expression)\n",
    "    \n",
    "    while i < n:\n",
    "        c = expression[i]\n",
    "        \n",
    "        # 跳过空格\n",
    "        if c == ' ':\n",
    "            i += 1\n",
    "            continue\n",
    "        \n",
    "        # 处理数字（支持多位数）\n",
    "        if c.isdigit():\n",
    "            num = 0\n",
    "            while i < n and expression[i].isdigit():\n",
    "                num = num * 10 + int(expression[i])\n",
    "                i += 1\n",
    "            numbers.append(num)\n",
    "            continue\n",
    "        \n",
    "        # 处理运算符\n",
    "        if c in '+-*/':\n",
    "            # 当前运算符优先级 <= 栈顶运算符优先级时，先计算栈顶运算\n",
    "            while (operators and operators[-1] in priority and\n",
    "                   priority[operators[-1]] >= priority[c]):\n",
    "                calculate(numbers, operators)\n",
    "            operators.append(c)\n",
    "            i += 1\n",
    "            continue\n",
    "    \n",
    "    # 处理剩余运算符\n",
    "    while operators:\n",
    "        calculate(numbers, operators)\n",
    "    \n",
    "    return numbers[-1] if numbers else 0\n",
    "\n",
    "def calculate(numbers, operators):\n",
    "    if len(numbers) < 2 or not operators:\n",
    "        return\n",
    "    \n",
    "    b = numbers.pop()\n",
    "    a = numbers.pop()\n",
    "    op = operators.pop()\n",
    "    \n",
    "    if op == '+':\n",
    "        numbers.append(a + b)\n",
    "    elif op == '-':\n",
    "        numbers.append(a - b)\n",
    "    elif op == '*':\n",
    "        numbers.append(a * b)\n",
    "    elif op == '/':\n",
    "        numbers.append(a // b)  # 整数除法\n",
    "\n",
    "# 测试用例\n",
    "print(evaluate_expression(\"3+5*8-6\"))          # 输出: 37\n",
    "print(evaluate_expression(\"34+13*9+44-12/3\"))  # 输出: 191\n",
    "# your algorithm time complexity is: \n",
    "'O(n)'"
   ],
   "outputs": [
    {
     "name": "stdout",
     "output_type": "stream",
     "text": [
      "37\n",
      "191\n"
     ]
    }
   ],
   "execution_count": 8
  },
  {
   "cell_type": "markdown",
   "metadata": {},
   "source": [
    "## 问题 4:  \n",
    "\n",
    "> 星球碰撞问题：现有n个星球，在同一条直线上运行，如数组A所示，元素的绝对值表示星球的质量，负数表示星球自右向左运动，正数表示星球自左向右运动，当两个星球相撞的时候，质量小的会消失，大的保持不变，**质量相同的两个星球碰撞后自右向左运动的星球消失，自左向右的星球保持不变**，假设所有星球的速度大小相同。\n",
    ">\n",
    "> $ A=[23,-8, 9, -3, -7, 9, -23, 22] $\n",
    "\n",
    "请设计一个算法模拟星球的运行情况，输出最终的星球存续情况（输出一个数组），分析算法设计思路，计算时间复杂度，并基于python编程实现。\n",
    "\n",
    "e.g.\n",
    "---\n",
    "1.  输入： A=[-3,-6,2,8, 5,-8,9,-2,1]， 输出：[-3, -6, 2, 8, 9, 1]\n",
    "\n",
    "2. 输入：A=[23,-8, 9, -3, -7, 9, -23, 22], 输出：[23, 22]\n",
    "\n"
   ]
  },
  {
   "metadata": {},
   "cell_type": "markdown",
   "source": "idea:采用栈结构模拟星球的碰撞过程，从左到右遍历星球数组，将向右运动的星球直接压入栈中；当遇到向左运动的星球时，判断是否与栈顶向右运动的星球发生碰撞。若发生碰撞，则根据质量大小决定哪颗星球消失：质量小的被销毁，质量相同则向左的星球消失。重复碰撞过程，直到当前星球无法继续碰撞或被销毁。最终栈中保留的即为所有幸存星球。"
  },
  {
   "metadata": {
    "ExecuteTime": {
     "end_time": "2025-04-20T16:31:44.191612Z",
     "start_time": "2025-04-20T16:31:44.182973Z"
    }
   },
   "cell_type": "code",
   "source": [
    "def planet_collision(A):\n",
    "    stack = []\n",
    "\n",
    "    for planet in A:\n",
    "        # 正向运动星球直接入栈\n",
    "        if planet > 0:\n",
    "            stack.append(planet)\n",
    "        else:\n",
    "            # planet 向左，需要检查是否与栈顶向右的星球相撞\n",
    "            while stack and stack[-1] > 0:\n",
    "                if abs(stack[-1]) < abs(planet):\n",
    "                    stack.pop()  # 栈顶星球被撞碎，当前负星球继续向前\n",
    "                elif abs(stack[-1]) == abs(planet):\n",
    "                    # 质量相等，向左的星球消失\n",
    "                    break\n",
    "                else:\n",
    "                    # 栈顶更大，当前负星球撞碎\n",
    "                    planet = None\n",
    "                    break\n",
    "            else:\n",
    "                if planet is not None:\n",
    "                    stack.append(planet)\n",
    "\n",
    "    return stack\n",
    "print(planet_collision([-3,-6,2,8, 5,-8,9,-2,1]))      \n",
    "# 输出: [-3, -6, 2, 8, 9, 1]\n",
    "\n",
    "print(planet_collision([23,-8, 9, -3, -7, 9, -23, 22]))  \n",
    "# 输出: [23, 22]\n",
    "# your algorithm time complexity is: \n",
    "'O(n)'"
   ],
   "outputs": [
    {
     "name": "stdout",
     "output_type": "stream",
     "text": [
      "[-3, -6, 2, 8, 9, 1]\n",
      "[23, 22]\n"
     ]
    }
   ],
   "execution_count": 13
  },
  {
   "cell_type": "markdown",
   "metadata": {},
   "source": [
    "## 问题 5 \n",
    "\n",
    "> 给定一个无序数组nums=[9,-3,-10,0,9,7,33]，请建立一个二叉搜索树存储数组中的所有元素，之后删除二叉树中的元素“0”，再使用中序遍历输出二叉搜索树中的所有元素。\n",
    "\n",
    "使用python编程完成上述任务，并计算时间复杂度\n"
   ]
  },
  {
   "cell_type": "code",
   "metadata": {
    "ExecuteTime": {
     "end_time": "2025-04-20T16:36:39.494744Z",
     "start_time": "2025-04-20T16:36:39.478617Z"
    }
   },
   "source": [
    "# 定义二叉搜索树节点类\n",
    "class TreeNode:\n",
    "    def __init__(self, val=0, left=None, right=None):\n",
    "        self.val = val    # 节点值\n",
    "        self.left = left  # 左子节点\n",
    "        self.right = right  # 右子节点\n",
    "\n",
    "# 向二叉搜索树中插入节点\n",
    "def insertIntoBST(root, val):\n",
    "    # 如果当前节点为空，创建新节点\n",
    "    if not root:\n",
    "        return TreeNode(val)\n",
    "    \n",
    "    # 如果插入值小于当前节点值，递归插入到左子树\n",
    "    if val < root.val:\n",
    "        root.left = insertIntoBST(root.left, val)\n",
    "    # 否则递归插入到右子树\n",
    "    else:\n",
    "        root.right = insertIntoBST(root.right, val)\n",
    "    return root\n",
    "\n",
    "# 从二叉搜索树中删除节点\n",
    "def deleteNode(root, key):\n",
    "    # 如果树为空，直接返回\n",
    "    if not root:\n",
    "        return root\n",
    "    \n",
    "    # 如果要删除的值小于当前节点值，递归到左子树删除\n",
    "    if key < root.val:\n",
    "        root.left = deleteNode(root.left, key)\n",
    "    # 如果要删除的值大于当前节点值，递归到右子树删除\n",
    "    elif key > root.val:\n",
    "        root.right = deleteNode(root.right, key)\n",
    "    # 找到要删除的节点\n",
    "    else:\n",
    "        # 情况1：节点只有右子树\n",
    "        if not root.left:\n",
    "            return root.right\n",
    "        # 情况2：节点只有左子树\n",
    "        elif not root.right:\n",
    "            return root.left\n",
    "        # 情况3：节点有左右子树\n",
    "        # 找到右子树中的最小节点（后继节点）\n",
    "        temp = findMin(root.right)\n",
    "        # 用后继节点的值替换当前节点值\n",
    "        root.val = temp.val\n",
    "        # 删除后继节点\n",
    "        root.right = deleteNode(root.right, temp.val)\n",
    "    return root\n",
    "\n",
    "# 辅助函数：找到子树中的最小节点\n",
    "def findMin(node):\n",
    "    # 二叉搜索树的最小节点是最左边的节点\n",
    "    while node.left:\n",
    "        node = node.left\n",
    "    return node\n",
    "\n",
    "# 中序遍历二叉搜索树\n",
    "def inorderTraversal(root):\n",
    "    result = []\n",
    "    if root:\n",
    "        # 递归遍历左子树\n",
    "        result = inorderTraversal(root.left)\n",
    "        # 访问当前节点\n",
    "        result.append(root.val)\n",
    "        # 递归遍历右子树\n",
    "        result = result + inorderTraversal(root.right)\n",
    "    return result\n",
    "\n",
    "# 构建BST并删除元素0\n",
    "nums = [9, -3, -10, 0, 9, 7, 33]\n",
    "root = None\n",
    "for num in nums:\n",
    "    root = insertIntoBST(root, num)\n",
    "root = deleteNode(root, 0)\n",
    "result = inorderTraversal(root)\n",
    "print(result)  # 输出应为删除0后的中序遍历结果\n",
    "# your algorithm time complexity is:\n",
    "# 构建BST：O(nlogn)\n",
    "# 删除节点：O(logn)\n",
    "# 中序遍历：O(n)"
   ],
   "outputs": [
    {
     "name": "stdout",
     "output_type": "stream",
     "text": [
      "[-10, -3, 7, 9, 9, 33]\n"
     ]
    }
   ],
   "execution_count": 14
  },
  {
   "cell_type": "markdown",
   "metadata": {},
   "source": [
    "## 问题 6  \n",
    "\n",
    "> 给定一个包含大写字母和小写字母的字符串 s ，返回 字符串包含的 **最长的回文子串的长度** 。请注意 区分大小写 。比如 \"Aa\" 不能当做一个回文字符串。\n",
    ">\n",
    "\n",
    "请设计一个算法解决上述问题，只需要输出最长回文子串的长度，分析算法设计思路，计算时间复杂度，并基于python编程实现\n",
    "\n",
    "e.g. 输入： s=\"adccaccd\"，  输出：7。 最长回文子串为：\"dccaccd\", 长度为7\n"
   ]
  },
  {
   "cell_type": "markdown",
   "metadata": {},
   "source": "idea：利用动态规划算法寻找给定字符串中的最长回文子串，通过构建一个二维布尔数组 dp 来记录子串是否为回文，并在过程中记录最长回文的长度及其起始索引，最终返回最长回文子串的长度和内容，其时间复杂度和空间复杂度均为 O(n^2)"
  },
  {
   "cell_type": "code",
   "metadata": {
    "ExecuteTime": {
     "end_time": "2025-04-21T02:23:22.581683Z",
     "start_time": "2025-04-21T02:23:22.577655Z"
    }
   },
   "source": [
    "def longestPalindromeLength(s):\n",
    "    n = len(s)\n",
    "    if n < 2:\n",
    "        return n, s[0]\n",
    "    \n",
    "    # 初始化dp数组\n",
    "    dp = [[False] * n for _ in range(n)]\n",
    "    max_length = 1\n",
    "    start = 0  # 记录最长回文子串的起始索引\n",
    "    \n",
    "    # 单个字符是回文\n",
    "    for i in range(n):\n",
    "        dp[i][i] = True\n",
    "    \n",
    "    # 长度为2的子串\n",
    "    for i in range(n - 1):\n",
    "        if s[i] == s[i + 1]:\n",
    "            dp[i][i + 1] = True\n",
    "            start = i\n",
    "            max_length = 2\n",
    "    \n",
    "    # 长度大于2的子串\n",
    "    for length in range(3, n + 1):\n",
    "        for start in range(n - length + 1):\n",
    "            end = start + length - 1\n",
    "            if s[start] == s[end] and dp[start + 1][end - 1]:\n",
    "                dp[start][end] = True\n",
    "                if length > max_length:\n",
    "                    start = start\n",
    "                    max_length = length\n",
    "    \n",
    "    # 根据最长回文子串的长度和起始索引，获取回文子串\n",
    "    longest_palindrome = s[start:start + max_length]\n",
    "    \n",
    "    return max_length, longest_palindrome\n",
    "\n",
    "# 示例\n",
    "s = \"adccaccd\"\n",
    "length, palindrome = longestPalindromeLength(s)\n",
    "print(f\"长度: {length}, 最长回文子串: '{palindrome}'\")  # 输出：长度: 7, 最长回文子串: 'dccaccd'\n",
    "# your algorithm time complexity is:\n",
    "'O(n^2)'"
   ],
   "outputs": [
    {
     "name": "stdout",
     "output_type": "stream",
     "text": [
      "长度: 7, 最长回文子串: 'adccacc'\n"
     ]
    }
   ],
   "execution_count": 3
  },
  {
   "cell_type": "markdown",
   "metadata": {},
   "source": [
    "## 问题 7 \n",
    "\n",
    "> 沿一条长河流分散着n座房子。你可以把这条河想象成一条轴，房子是由它们在这条轴上的坐标按顺序排列的。你的公司想在河边的特定地点设置手机基站，这样每户人家都在距离基站4公里的范围内。输入可以看作为一个升序数组，数组元素的取值为大于等于0的正整数，你需要输出最小基站的数目，基站的位置。\n",
    "\n",
    "1. 给出一个时间复杂度为$O(n$) 的算法，使所使用的基站数量最小化，分析算法设计思路，使用python编程实现\n",
    "2. 证明1.中算法产生了最优解决方案。\n",
    "\n",
    "e.g. \n",
    "\n",
    "输入： [1, 5, 12, 33, 34,35]  输出：基站数目为3， 基站位置为[1，12，33]\n",
    "\n"
   ]
  },
  {
   "cell_type": "markdown",
   "metadata": {},
   "source": "idea：通过贪心算法实现了在一条直线上放置最少数量基站以覆盖所有房子的问题，从左到右遍历房子列表，每次在当前未覆盖房子的最左边放置一个基站，并跳过该基站覆盖范围内的所有房子，重复此过程直到所有房子都被覆盖，最终返回基站的数量和位置。这种方法确保了使用的基站数量最小化，且时间复杂度为 O(n)。"
  },
  {
   "cell_type": "code",
   "metadata": {
    "ExecuteTime": {
     "end_time": "2025-04-21T02:42:50.778697Z",
     "start_time": "2025-04-21T02:42:50.774712Z"
    }
   },
   "source": [
    "# add your idea here\n",
    "def min_base_stations(houses):\n",
    "    if not houses:\n",
    "        return 0, []\n",
    "    \n",
    "    stations = []\n",
    "    n = len(houses)\n",
    "    i = 0\n",
    "    \n",
    "    while i < n:\n",
    "        # 基站建在当前房子位置\n",
    "        station_pos = houses[i]\n",
    "        stations.append(station_pos)\n",
    "        \n",
    "        # 跳过所有在 station_pos ±4 范围内的房子\n",
    "        while i < n and houses[i] <= station_pos + 4:\n",
    "            i += 1\n",
    "    \n",
    "    return len(stations), stations\n",
    "\n",
    "# 测试用例\n",
    "houses = [1, 5, 12, 33, 34, 35]\n",
    "count, positions = min_base_stations(houses)\n",
    "print(f\"基站数目为{count}，基站位置为{positions}\")  # 输出：基站数目为3，基站位置为[1, 12, 33]\n",
    "# your algorithm time complexity is:\n",
    "'O(n)'"
   ],
   "outputs": [
    {
     "name": "stdout",
     "output_type": "stream",
     "text": [
      "基站数目为3，基站位置为[1, 12, 33]\n"
     ]
    }
   ],
   "execution_count": 6
  },
  {
   "cell_type": "markdown",
   "metadata": {},
   "source": [
    "## 问题 8  \n",
    "\n",
    "> 给定由n个正整数组成的一个集合$S = \\{a_1, a_2，···，a_n\\}$和一个正整数W，设计一个算法确定是否存在S的一个子集 $K \\subseteq S$, 使K中所有数之和为 $W$, 如果存在返回“True”，否则返回“False”\n",
    "\n",
    "请设计一个时间复杂度为$O(nW)$动态规划算法，解决上述问题，分析算法的设计思路，并且基于python编程实现（不需要输出子集）。\n",
    "\n",
    "e.g. \n",
    "\n",
    "输入：S = {1,4,7,3,5}， W = 11，输出：True。   因为K可以是{4,7}。\n",
    "\n"
   ]
  },
  {
   "cell_type": "markdown",
   "metadata": {},
   "source": "idea：使用动态规划来解决该问题，构建了一个二维布尔数组 np，其中 np[i][w] 表示是否存在一个由前 i 个数字组成的子集，其和为 w。初始化时，所有和为0的情况被设置为 True，随后通过迭代更新 np 数组，考虑每个数字是否被包含在子集中，最终检查 np[n][W] 的值以确定是否存在和为 W 的子集，从而以 O(nW) 的时间复杂度找到解决方案。"
  },
  {
   "cell_type": "code",
   "metadata": {
    "ExecuteTime": {
     "end_time": "2025-04-21T02:56:29.894920Z",
     "start_time": "2025-04-21T02:56:29.891336Z"
    }
   },
   "source": [
    "def subsetSum(S, W):\n",
    "    n = len(S)\n",
    "    # 初始化np数组\n",
    "    np = [[False] * (W + 1) for _ in range(n + 1)]\n",
    "    \n",
    "    # 空集的和为0是可能的\n",
    "    for i in range(n + 1):\n",
    "        np[i][0] = True\n",
    "    \n",
    "    # 填充dp数组\n",
    "    for i in range(1, n + 1):\n",
    "        for w in range(1, W + 1):\n",
    "            if S[i-1] <= w:\n",
    "                np[i][w] = np[i-1][w] or np[i-1][w-S[i-1]]\n",
    "            else:\n",
    "                np[i][w] = np[i-1][w]\n",
    "    \n",
    "    # 返回是否存在子集和为W\n",
    "    return np[n][W]\n",
    "\n",
    "# 示例\n",
    "S = [1, 4, 7, 3, 5]\n",
    "W = 11\n",
    "print(subsetSum(S, W))  # 输出：True\n",
    "# your algorithm time complexity is: \n",
    "'O(nW)'"
   ],
   "outputs": [
    {
     "name": "stdout",
     "output_type": "stream",
     "text": [
      "True\n"
     ]
    }
   ],
   "execution_count": 7
  },
  {
   "cell_type": "markdown",
   "metadata": {},
   "source": [
    "+\n",
    "\n",
    "## 问题 9 \n",
    "\n",
    "> 给定一个n个物品的集合。物体的重量为$w_1, w_2，…、w_n$，物品的价值分别是$v_1、v_2、…v_n$。给你**两个**重量为 $c$ 的背包。如果你带了一个东西，它可以放在一个背包里，也可以放在另一个背包里，但不能同时放在两个背包里。所有权重和价值都是正整数。\n",
    "\n",
    "1. 设计一个时间复杂度为 $O(nc^2)$ 的动态规划算法，确定可以放入两个背包的物体的最大价值。分析算法设计思路，并基于python编程实现\n",
    "2. \\* 修改1中的算法，输出每个背包的内容（物品对应下标）。\n",
    "\n",
    "e.g.: \n",
    "\n",
    "输入 V=[1,3,2,5,8,7], W=[1,3,2,5,8,7], c=7, 输出：最大价值=14，背包装的物品为：[6] [4，3] （同一个背包中物品装入顺序对结果无影响）  \n"
   ]
  },
  {
   "cell_type": "markdown",
   "metadata": {},
   "source": "idea：使用动态规划算法通过构建三维状态dp[i][j][k]（优化为二维）记录考虑前i个物品时两个背包剩余容量分别为j和k的最大价值，对每个物品分三种情况（不选/放入背包1/放入背包2）进行状态转移，采用逆序更新确保无后效性，同时用choice数组记录决策路径，最后通过回溯确定具体物品分配方案。"
  },
  {
   "cell_type": "code",
   "metadata": {
    "ExecuteTime": {
     "end_time": "2025-04-21T04:10:51.120158Z",
     "start_time": "2025-04-21T04:10:51.111567Z"
    }
   },
   "source": [
    "def dual_knapsack(V, W, c):\n",
    "    n = len(V)\n",
    "    # 初始化DP表：dp[j][k]表示两个背包剩余容量为j和k时的最大价值\n",
    "    dp = [[0] * (c + 1) for _ in range(c + 1)]\n",
    "    # 记录选择：choice[i][j][k]表示在状态(j,k)时第i个物品的选择（0:不选，1:背包1，2:背包2）\n",
    "    choice = [[[0] * (c + 1) for _ in range(c + 1)] for _ in range(n)]\n",
    "    \n",
    "    for i in range(n):\n",
    "        v, w = V[i], W[i]\n",
    "        # 需要从后往前更新，避免重复计算\n",
    "        for j in range(c, -1, -1):\n",
    "            for k in range(c, -1, -1):\n",
    "                # 不选当前物品\n",
    "                max_val = dp[j][k]\n",
    "                select = 0\n",
    "                # 尝试放入背包1\n",
    "                if j >= w and dp[j - w][k] + v > max_val:\n",
    "                    max_val = dp[j - w][k] + v\n",
    "                    select = 1\n",
    "                # 尝试放入背包2\n",
    "                if k >= w and dp[j][k - w] + v > max_val:\n",
    "                    max_val = dp[j][k - w] + v\n",
    "                    select = 2\n",
    "                # 更新DP表和选择记录\n",
    "                if i == 0 or select != 0:\n",
    "                    choice[i][j][k] = select\n",
    "                dp[j][k] = max_val\n",
    "    \n",
    "    # 回溯找出选择的物品\n",
    "    bag1, bag2 = [], []\n",
    "    j, k = c, c\n",
    "    for i in range(n - 1, -1, -1):\n",
    "        if choice[i][j][k] == 1:\n",
    "            bag1.append(i)\n",
    "            j -= W[i]\n",
    "        elif choice[i][j][k] == 2:\n",
    "            bag2.append(i)\n",
    "            k -= W[i]\n",
    "    \n",
    "    # 物品编号转为1-based（如示例）\n",
    "    bag1 = [x + 1 for x in bag1]\n",
    "    bag2 = [x + 1 for x in bag2]\n",
    "    \n",
    "    return dp[c][c], bag1, bag2\n",
    "\n",
    "# 测试用例\n",
    "V = [1, 3, 2, 5, 8, 7]\n",
    "W = [1, 3, 2, 5, 8, 7]\n",
    "c = 7\n",
    "max_val, bag1, bag2 = dual_knapsack(V, W, c)\n",
    "print(f\"最大价值={max_val}，背包装的物品为：{bag1} {bag2}\")\n",
    "# 输出：最大价值=14，背包装的物品为：[6] [4, 3]\n",
    "# your algorithm time complexity is: \n",
    "'O(nc^2)'"
   ],
   "outputs": [
    {
     "name": "stdout",
     "output_type": "stream",
     "text": [
      "最大价值=14，背包装的物品为：[6] [4, 3]\n"
     ]
    }
   ],
   "execution_count": 10
  },
  {
   "cell_type": "markdown",
   "metadata": {},
   "source": [
    "## 问题 10 \n",
    "\n",
    "> 给定两个字符串 $x[1..n]$ 和 $y[1..m]$，我们想通过以下操作将 $x$ 变换为 $y$ :\n",
    ">\n",
    "> **插入**：在 $x$ 中插入一个字符(在任何位置)；**删除**：从 $x$ 中删除一个字符(在任何位置)； **替换**：用另一个字符替换 $x$ 中的一个字符。\n",
    ">\n",
    "> 例如: $x = abcd$, $y = bcfe$，\n",
    ">\n",
    "> - 将 $x$ 转换为 $y$ 的一种可能方法是：1. 删除 $x$ 开头的 $a$, $x$变成 $bcd$； 2. 将 $x$ 中的字符 $d$ 替换为字符 $f$。$x$ 变成 $bcf$； 3. 在 $x$ 的末尾插入字符 $e$。$x$ 变成 $bcfe$。\n",
    ">\n",
    "> - 另一种可能的方法：1. 删除 $x$ 开头的 $a$,  $x$ 变成 $bcd$； 2. 在 $x$ 中字符 $d$ 之前插入字符 $f$。$x$ 变成 $bcfd$。3. 将 $x$ 中的字符 $d$ 替换为字符 $e$。$x$ 变成 $bcfe$。\n",
    "\n",
    "设计一个时间复杂度为 $O(mn)$ 的算法，返回将 $x$ 转换为 $y$ 所需的最少操作次数。分析算法设计思路，并基于python编程实现。\n"
   ]
  },
  {
   "cell_type": "markdown",
   "metadata": {},
   "source": "idea：利用动态规划方法解决编辑距离问题，通过构建一个二维数组 dp 来记录将字符串 x 转换为字符串 y 的最小操作次数，其中 dp[i][j] 表示将 x 的前 i 个字符转换为 y 的前 j 个字符所需的最小操作数。初始化时，将 dp 的第一行和第一列分别设置为从空字符串转换到 x 和 y 所需的操作数。然后，通过状态转移方程填充 dp 数组，考虑插入、删除和替换三种操作，并取这三种操作的最小值作为当前状态的值。最终，dp[m][n] 给出将整个 x 转换为 y 所需的最小操作次数，其中 m 和 n 分别是 x 和 y 的长度。"
  },
  {
   "cell_type": "code",
   "metadata": {
    "ExecuteTime": {
     "end_time": "2025-04-21T04:31:45.379803Z",
     "start_time": "2025-04-21T04:31:45.370626Z"
    }
   },
   "source": [
    "# add your idea here\n",
    "def minDistance(x, y):\n",
    "    # 初始化dp数组，dp[i][j]表示字符串x[0:i]和y[0:j]之间的最小编辑距离\n",
    "    m, n = len(x), len(y)\n",
    "    dp = [[0] * (n + 1) for _ in range(m + 1)]\n",
    "    \n",
    "    # 初始化边界条件\n",
    "    for i in range(m + 1):\n",
    "        dp[i][0] = i  # 将x的前i个字符转换为空字符串需要i次删除操作\n",
    "    for j in range(n + 1):\n",
    "        dp[0][j] = j  # 将y的前j个字符转换为空字符串需要j次插入操作\n",
    "    \n",
    "    # 填充dp数组\n",
    "    for i in range(1, m + 1):\n",
    "        for j in range(1, n + 1):\n",
    "            if x[i - 1] == y[j - 1]:\n",
    "                dp[i][j] = dp[i - 1][j - 1]  # 字符相同，无需操作\n",
    "            else:\n",
    "                dp[i][j] = min(\n",
    "                    dp[i - 1][j] + 1,  # 删除操作\n",
    "                    dp[i][j - 1] + 1,  # 插入操作\n",
    "                    dp[i - 1][j - 1] + 1  # 替换操作\n",
    "                )\n",
    "    \n",
    "    return dp[m][n]\n",
    "\n",
    "# 示例\n",
    "x = \"abcd\"\n",
    "y = \"bcfe\"\n",
    "print(minDistance(x, y))  # 输出：4\n",
    "# your algorithm time complexity is: \n",
    "'O(mn)'"
   ],
   "outputs": [
    {
     "name": "stdout",
     "output_type": "stream",
     "text": [
      "3\n"
     ]
    }
   ],
   "execution_count": 11
  }
 ],
 "metadata": {
  "language_info": {
   "name": "python"
  },
  "kernelspec": {
   "name": "python3",
   "language": "python",
   "display_name": "Python 3 (ipykernel)"
  }
 },
 "nbformat": 4,
 "nbformat_minor": 2
}
